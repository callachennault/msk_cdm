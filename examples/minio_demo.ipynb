{
 "cells": [
  {
   "metadata": {},
   "cell_type": "markdown",
   "source": [
    "# MinIO Connection Demo\n",
    "Example script that reads an object from minio via the minio API.\n",
    "\n",
    "## Setup\n",
    "\n",
    "Create your conda environment including the `msk_cdm` package (See [README](https://github.com/clinical-data-mining/msk_cdm/blob/main/README.md)) \n",
    "\n",
    "This examples requires you to have a .env file in your home directory with SECRET_KEY, ACCESS_KEY, and certificate\n",
    "for minio. \n",
    "\n",
    "[Detailed instructions to create the SECRET_KEY, ACCESS_KEY, and certificate](https://clinical-data-mining.github.io/msk_cdm/reference/user-guide/minio/)\n",
    "\n",
    "[API Reference for using msk_cdm.minio](https://clinical-data-mining.github.io/msk_cdm/reference/minio/)\n",
    "\n",
    "\n",
    "### Creating an environment file \n",
    "\n",
    "Store connection details in a file and instantiate through the file instead of individual connection details. A user can create a file with this template:\n",
    "\n",
    "`<pathname>/env_minio.txt`:\n",
    "```\n",
    "ACCESS_KEY=<ACCESS_KEY>\n",
    "SECRET_KEY=<SECRET_KEY>\n",
    "CA_CERTS=<PATH_TO>/certificate.crt\n",
    "URL_PORT=pllimsksparky3:9000\n",
    "BUCKET=cdm-data\n",
    "```\n",
    "\n",
    "\n",
    "### Instantiate in Python\n",
    "```\n",
    "from msk_cdm.minio import MinioAPI\n",
    "\n",
    "obj_minio = MinioAPI(fname_minio_env=fname_minio)\n",
    "```\n",
    "\n",
    "---"
   ],
   "id": "518626f23f123f19"
  },
  {
   "cell_type": "code",
   "id": "initial_id",
   "metadata": {
    "collapsed": true,
    "ExecuteTime": {
     "end_time": "2024-09-10T13:11:12.948957Z",
     "start_time": "2024-09-10T13:11:12.945719Z"
    }
   },
   "source": [
    "import pandas as pd\n",
    "from msk_cdm.minio import MinioAPI\n"
   ],
   "outputs": [],
   "execution_count": 2
  },
  {
   "metadata": {},
   "cell_type": "markdown",
   "source": "### Define configuration and dataset to be loaded",
   "id": "c69deb6220addf77"
  },
  {
   "metadata": {
    "collapsed": false,
    "ExecuteTime": {
     "end_time": "2024-09-10T13:23:37.613132Z",
     "start_time": "2024-09-10T13:23:37.610299Z"
    }
   },
   "cell_type": "code",
   "outputs": [],
   "execution_count": 41,
   "source": [
    "fname_minio = '<PATH>>/minio_env.txt' \n",
    "fname_dataset = 'cbioportal/data_clinical_patient.txt'\n",
    "bucket_name = 'cdm-data'"
   ],
   "id": "1d4a47698d96e354"
  },
  {
   "cell_type": "code",
   "source": [
    "### Instantiate\n",
    "obj_minio = MinioAPI(fname_minio_env=fname_minio);"
   ],
   "metadata": {
    "collapsed": false
   },
   "id": "c3b1f55f5fd092d1",
   "outputs": [],
   "execution_count": null
  },
  {
   "metadata": {},
   "cell_type": "markdown",
   "source": "### Load data from MinIO",
   "id": "94722f6f8e25e39a"
  },
  {
   "metadata": {
    "collapsed": false,
    "ExecuteTime": {
     "end_time": "2024-09-10T13:23:57.147313Z",
     "start_time": "2024-09-10T13:23:56.710277Z"
    }
   },
   "cell_type": "code",
   "outputs": [],
   "execution_count": 43,
   "source": [
    "obj = obj_minio.load_obj(\n",
    "    path_object=fname_dataset, \n",
    "    bucket_name=bucket_name\n",
    ")\n",
    "df = pd.read_csv(obj, sep='\\t', low_memory=False, header=4)"
   ],
   "id": "f2f4318bda7af72a"
  },
  {
   "metadata": {
    "ExecuteTime": {
     "end_time": "2024-09-10T14:48:29.343422Z",
     "start_time": "2024-09-10T14:48:29.339249Z"
    }
   },
   "cell_type": "code",
   "source": "df.head();",
   "id": "5ea261867b12057f",
   "outputs": [],
   "execution_count": 47
  },
  {
   "metadata": {},
   "cell_type": "markdown",
   "source": "### Subset the data",
   "id": "ad4d7d0e25aaa84b"
  },
  {
   "metadata": {
    "collapsed": false,
    "ExecuteTime": {
     "end_time": "2024-09-10T14:48:25.445490Z",
     "start_time": "2024-09-10T14:48:25.424097Z"
    }
   },
   "cell_type": "code",
   "outputs": [],
   "execution_count": 46,
   "source": [
    "df_pdl1 = df[df['HISTORY_OF_PDL1'] == 'Yes'].copy()\n",
    "df_pdl1.head();"
   ],
   "id": "bbaad12332c2ada9"
  },
  {
   "metadata": {},
   "cell_type": "markdown",
   "source": "### Save the data",
   "id": "2cb0a89c239c2159"
  },
  {
   "metadata": {
    "collapsed": false,
    "ExecuteTime": {
     "end_time": "2024-09-10T13:22:38.080103Z",
     "start_time": "2024-09-10T13:22:37.991944Z"
    }
   },
   "cell_type": "code",
   "outputs": [],
   "execution_count": 36,
   "source": [
    "fname_pdl1 = '/Users/test_user/data_clinical_patient_pdl1.tsv'\n",
    "obj_minio.save_obj(\n",
    "    df=df_pdl1,\n",
    "    path_object=fname_pdl1, \n",
    "    sep='\\t'\n",
    ")\n"
   ],
   "id": "868e90cea439d095"
  },
  {
   "metadata": {},
   "cell_type": "markdown",
   "source": "### Print out the objects with a name like \"/Users/test_user/\"",
   "id": "36d3d2937bd68b8d"
  },
  {
   "metadata": {
    "ExecuteTime": {
     "end_time": "2024-09-10T13:22:47.458204Z",
     "start_time": "2024-09-10T13:22:47.446969Z"
    }
   },
   "cell_type": "code",
   "outputs": [
    {
     "data": {
      "text/plain": [
       "['Users/test_user/data_clinical_patient_pdl1.tsv']"
      ]
     },
     "execution_count": 38,
     "metadata": {},
     "output_type": "execute_result"
    }
   ],
   "execution_count": 38,
   "source": [
    "\n",
    "obj_minio.print_list_objects(prefix='/Users/test_user/', recursive=False, bucket_name='cdm-data')"
   ],
   "id": "2424969f58caa08f"
  },
  {
   "metadata": {},
   "cell_type": "markdown",
   "source": "### Remove the Newly Created File",
   "id": "2ed69c1b7510ff07"
  },
  {
   "metadata": {
    "ExecuteTime": {
     "end_time": "2024-09-10T13:22:48.437703Z",
     "start_time": "2024-09-10T13:22:48.425951Z"
    }
   },
   "cell_type": "code",
   "outputs": [
    {
     "name": "stdout",
     "output_type": "stream",
     "text": [
      "Object removed. Bucket: cdm-data, Object: /Users/test_user/data_clinical_patient_pdl1.tsv\n"
     ]
    }
   ],
   "execution_count": 39,
   "source": "obj_minio.remove_obj(path_object=fname_pdl1, bucket_name='cdm-data')",
   "id": "5f3842f26573416"
  },
  {
   "metadata": {},
   "cell_type": "markdown",
   "source": "### Print out the objects again to check if file still exists",
   "id": "4c6d4883eeaab571"
  },
  {
   "metadata": {
    "ExecuteTime": {
     "end_time": "2024-09-10T13:22:49.550460Z",
     "start_time": "2024-09-10T13:22:49.543938Z"
    }
   },
   "cell_type": "code",
   "outputs": [
    {
     "data": {
      "text/plain": [
       "[]"
      ]
     },
     "execution_count": 40,
     "metadata": {},
     "output_type": "execute_result"
    }
   ],
   "execution_count": 40,
   "source": "obj_minio.print_list_objects(prefix='/Users/test_user/', recursive=False, bucket_name='cdm-data')\n",
   "id": "abaada346873cd67"
  },
  {
   "metadata": {},
   "cell_type": "code",
   "outputs": [],
   "execution_count": null,
   "source": "",
   "id": "5fd330fd5a362f5c"
  }
 ],
 "metadata": {
  "kernelspec": {
   "name": "conda-env-cdm",
   "language": "python",
   "display_name": "conda-env-cdm"
  },
  "language_info": {
   "codemirror_mode": {
    "name": "ipython",
    "version": 2
   },
   "file_extension": ".py",
   "mimetype": "text/x-python",
   "name": "python",
   "nbconvert_exporter": "python",
   "pygments_lexer": "ipython2",
   "version": "2.7.6"
  }
 },
 "nbformat": 4,
 "nbformat_minor": 5
}

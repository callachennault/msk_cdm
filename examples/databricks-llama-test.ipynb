{
 "cells": [
  {
   "metadata": {},
   "cell_type": "markdown",
   "source": [
    "\n",
    "# Databricks LLM Test\n",
    "This test notebook:\n",
    "- Creates a client object with Databricks using a user token\n",
    "- Prompts an LLM of a user's choice (`SERVING_MODEL`)\n",
    "- Returns the content of the message\n",
    "\n",
    "Notes: \n",
    "- [How to get your Databricks token](https://docs.databricks.com/en/dev-tools/auth/pat.html) \n",
    "- Compute cluster: `CDSI ML Cluster`\n",
    "- The `SERVING_MODEL` must be a serving endpoint in Databricks. This process in done in the [Databricks UI](https://msk-mode-test.cloud.databricks.com/ml/endpoints/)\n",
    "- When testing is completed, MAKE SURE THE `CDSI ML Cluster` IS NO LONGER RUNNING. Unexpected costs will result even if cluster is idle!\n",
    "\n",
    "!['Compute cluster'](https://github.com/clinical-data-mining/msk_cdm/blob/main/docs/reference/images/compute_cluster.png?raw=true)\n",
    "    "
   ],
   "id": "5f0f96e52ae54ff5"
  },
  {
   "cell_type": "code",
   "id": "1660925dae63fc66",
   "metadata": {
    "ExecuteTime": {
     "end_time": "2024-11-25T23:45:26.226733Z",
     "start_time": "2024-11-25T23:45:25.229119Z"
    }
   },
   "source": "from openai import OpenAI\n",
   "outputs": [],
   "execution_count": 1
  },
  {
   "metadata": {
    "ExecuteTime": {
     "end_time": "2024-11-25T23:55:25.020101Z",
     "start_time": "2024-11-25T23:55:25.016721Z"
    }
   },
   "cell_type": "code",
   "source": [
    "DATABRICKS_TOKEN = '<YOUR-TOKEN-HERE>'\n",
    "SERVING_MODEL = 'meta_llama_3_8b_instruct_cdm'\n",
    "MAX_TOKENS = 256\n",
    "ENDPOINT_URL = 'https://msk-mode-test.cloud.databricks.com/serving-endpoints'\n"
   ],
   "id": "f841f23f1f9b3923",
   "outputs": [],
   "execution_count": 7
  },
  {
   "metadata": {
    "ExecuteTime": {
     "end_time": "2024-11-25T23:56:27.314456Z",
     "start_time": "2024-11-25T23:56:27.310935Z"
    }
   },
   "cell_type": "code",
   "source": "USER_PROMPT = \"What are the sites of disease based on this piece of text: Since CT scan of DATE, Predominantly upper lobe and superior segment lower lobe ground glass nodules are not seen on this chest radiograph\"",
   "id": "a9da7959a6f2bb8",
   "outputs": [],
   "execution_count": 12
  },
  {
   "metadata": {
    "collapsed": true,
    "ExecuteTime": {
     "end_time": "2024-11-25T23:55:27.207501Z",
     "start_time": "2024-11-25T23:55:27.194660Z"
    }
   },
   "cell_type": "code",
   "source": [
    "# Create client with Databricks\n",
    "client = OpenAI(\n",
    "    api_key=DATABRICKS_TOKEN,\n",
    "    base_url=ENDPOINT_URL\n",
    ")\n"
   ],
   "id": "initial_id",
   "outputs": [],
   "execution_count": 9
  },
  {
   "metadata": {
    "ExecuteTime": {
     "end_time": "2024-11-25T23:55:28.459488Z",
     "start_time": "2024-11-25T23:55:28.455569Z"
    }
   },
   "cell_type": "code",
   "source": [
    "def llm_prompt(\n",
    "        prompt: str,\n",
    "        serving_model=SERVING_MODEL,\n",
    "        max_tokens=MAX_TOKENS\n",
    "):\n",
    "    chat_completion = client.chat.completions.create(\n",
    "        messages=[\n",
    "            {\n",
    "                \"role\": \"system\",\n",
    "                \"content\": \"You are an AI assistant\"\n",
    "            },\n",
    "            {\n",
    "                \"role\": \"user\",\n",
    "                \"content\": prompt\n",
    "            }\n",
    "        ],\n",
    "        model=serving_model,\n",
    "        max_tokens=max_tokens\n",
    "    )\n",
    "    \n",
    "    return chat_completion.choices[0].message.content \n",
    "    "
   ],
   "id": "e1c8106b1bfbb9fd",
   "outputs": [],
   "execution_count": 10
  },
  {
   "metadata": {
    "ExecuteTime": {
     "end_time": "2024-11-25T23:56:32.184426Z",
     "start_time": "2024-11-25T23:56:31.299260Z"
    }
   },
   "cell_type": "code",
   "source": "print(llm_prompt(prompt=USER_PROMPT))",
   "id": "8e6985ffc3d5f21f",
   "outputs": [
    {
     "name": "stdout",
     "output_type": "stream",
     "text": [
      "The sites of disease mentioned in the text are:\n",
      "\n",
      "* Upper lobe\n",
      "* Superior segment of the lower lobe\n"
     ]
    }
   ],
   "execution_count": 13
  }
 ],
 "metadata": {
  "kernelspec": {
   "display_name": "conda-env-cdm-fongc2",
   "language": "python",
   "name": "conda-env-cdm-fongc2"
  },
  "language_info": {
   "codemirror_mode": {
    "name": "ipython",
    "version": 2
   },
   "file_extension": ".py",
   "mimetype": "text/x-python",
   "name": "python",
   "nbconvert_exporter": "python",
   "pygments_lexer": "ipython2",
   "version": "2.7.6"
  }
 },
 "nbformat": 4,
 "nbformat_minor": 5
}
